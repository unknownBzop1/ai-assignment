{
 "cells": [
  {
   "cell_type": "code",
   "execution_count": 4,
   "id": "initial_id",
   "metadata": {
    "ExecuteTime": {
     "end_time": "2025-04-27T15:42:54.401202Z",
     "start_time": "2025-04-27T15:42:54.325375Z"
    },
    "collapsed": true
   },
   "outputs": [
    {
     "name": "stderr",
     "output_type": "stream",
     "text": [
      "/opt/conda/lib/python3.8/site-packages/pandas/compat/_optional.py:161: UserWarning: Pandas requires version '2.7.1' or newer of 'numexpr' (version '2.7.0' currently installed).\n",
      "  warnings.warn(msg, UserWarning)\n"
     ]
    }
   ],
   "source": [
    "import os\n",
    "from PIL import Image\n",
    "import numpy as np\n",
    "import pandas as pd"
   ]
  },
  {
   "cell_type": "code",
   "execution_count": 12,
   "id": "1b697a1c92cbeb91",
   "metadata": {},
   "outputs": [],
   "source": [
    "IMAGE_PATH = \"./images\"\n",
    "\n",
    "l_avg = 0\n",
    "l_var = 0\n",
    "n = len(os.listdir(IMAGE_PATH))\n",
    "\n",
    "for imagename in os.listdir(IMAGE_PATH):\n",
    "    image = Image.open(os.path.join(IMAGE_PATH, imagename)).convert('L')\n",
    "    l_avg += np.average(image)\n",
    "    l_var += np.var(image)"
   ]
  },
  {
   "cell_type": "code",
   "execution_count": 13,
   "id": "b7dcc4c1",
   "metadata": {},
   "outputs": [
    {
     "data": {
      "text/plain": [
       "(124.52002648776948, 60.1234017836901)"
      ]
     },
     "execution_count": 13,
     "metadata": {},
     "output_type": "execute_result"
    }
   ],
   "source": [
    "l_avg /= n\n",
    "l_var /= n\n",
    "l_std = l_var ** 0.5\n",
    "\n",
    "l_avg, l_std"
   ]
  },
  {
   "cell_type": "code",
   "execution_count": 14,
   "id": "d8be2cf3",
   "metadata": {},
   "outputs": [
    {
     "data": {
      "text/plain": [
       "(0.4883138293638019, 0.2357780462105494)"
      ]
     },
     "execution_count": 14,
     "metadata": {},
     "output_type": "execute_result"
    }
   ],
   "source": [
    "l_avg /= 255\n",
    "l_std /= 255\n",
    "\n",
    "l_avg, l_std"
   ]
  },
  {
   "cell_type": "code",
   "execution_count": null,
   "id": "c1513e82",
   "metadata": {},
   "outputs": [],
   "source": []
  }
 ],
 "metadata": {
  "kernelspec": {
   "display_name": "Python 3.8.13 ('base')",
   "language": "python",
   "name": "python3"
  },
  "language_info": {
   "codemirror_mode": {
    "name": "ipython",
    "version": 3
   },
   "file_extension": ".py",
   "mimetype": "text/x-python",
   "name": "python",
   "nbconvert_exporter": "python",
   "pygments_lexer": "ipython3",
   "version": "3.8.13"
  },
  "vscode": {
   "interpreter": {
    "hash": "d4d1e4263499bec80672ea0156c357c1ee493ec2b1c70f0acce89fc37c4a6abe"
   }
  }
 },
 "nbformat": 4,
 "nbformat_minor": 5
}
